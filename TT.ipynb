{
 "cells": [
  {
   "cell_type": "code",
   "execution_count": null,
   "id": "c7313f2c",
   "metadata": {},
   "outputs": [
    {
     "name": "stdout",
     "output_type": "stream",
     "text": [
      "200\n",
      "<!DOCTYPE html>\n",
      "<html lang=\"ru\" prefix=\"og: http://ogp.me/ns#\"><meta content=\"IE=edge\" http-equiv=\"X-UA-Compatible\"/><meta charset=\"utf-8\"/><meta content=\"width=device-width,initial-scale=1\" name=\"viewport\"/><title data-react-helmet=\"true\">ÐÑ Ð½Ðµ ÑÐ¾Ð±Ð¾Ñ?</title><meta content=\"Ð¯Ð½Ð´ÐµÐºÑ\" data-react-helmet=\"true\" property=\"og:title\"/><meta content=\"ÐÐ°Ð¹Ð´ÑÑÑÑ Ð²ÑÑ\" data-react-helmet=\"true\" property=\"og:description\"/><meta content=\"https://yastatic.net/s3/home-static/_/37/37a02b5dc7a51abac55d8a5b6c865f0e.png\" data-react-helmet=\"true\" property=\"og:image\"/><link href=\"/captcha_smart.8e931238149d56024307.min.css?k=1733410799941\" rel=\"stylesheet\"/><style>@media only screen and (min-width:651px) and (prefers-color-scheme:light){body{background-image:url('https://captcha-backgrounds.s3.yandex.net/static/cloud-background.jpg')}}@media only screen and (min-width:651px) and (prefers-color-scheme:dark){body{background-image:url('https://captcha-backgrounds.s3.yandex.net/static/cloud-background.jpg')}}@media (prefers-color-scheme:light){.LogoLink{background-image:url('https://cdnrhkgfkkpupuotntfj.svc.cdn.yandex.net/cloudlogo.svg')}.Theme_root_default{--smart-captcha-background-color:#fff;--checkbox-captcha-error-color:#f33;--checkbox-captcha-border:1px solid rgba(0,0,0,0.15);--checkbox-captcha-border-radius:11px;--anchor-background-color:#fff;--anchor-background-color-error:rgba(255,51,51,0.12);--anchor-background-color-checked:#5282ff;--anchor-check-mark-color:#fff;--anchor-border:2px solid #ccc;--spin-view-captcha-border-color:#5c81d1;--advanced-captcha-border-radius:11px;--advanced-captcha-image-preview-background-color:rgba(0,0,0,0.05);--textinput-border:2px solid rgba(0,0,0,0.1);--textinput-border-focused:2px solid rgba(0,0,0,0.3);--textinput-view-default-fill-color-base:#fff;--advanced-captcha-tooltip-background-color:#adafb6;--link-view-default-typo-color-base:#04b;--color-typo-ghost:rgba(0,0,0,0.3);--color-base:#000;--color-typo-primary:var(--color-base);--button-view-action-typo-color-base:#fff;--button-view-action-fill-color-base:#6b94f7;--button-view-action-fill-color-hovered:#5c81d1}}@media (prefers-color-scheme:dark){.LogoLink{background-image:url('https://cdnrhkgfkkpupuotntfj.svc.cdn.yandex.net/cloudlogo.svg')}.Theme_root_default{--smart-captcha-background-color:#313036;--checkbox-captcha-error-color:#f33;--checkbox-captcha-border:1px solid #d9d9d9;--checkbox-captcha-border-radius:11px;--anchor-background-color:#313036;--anchor-background-color-error:rgba(255, 51, 51, 0.12);--anchor-background-color-checked:#5c81d1;--anchor-check-mark-color:#fff;--anchor-border:2px solid #6b6b72;--spin-view-captcha-border-color:#5c81d1;--advanced-captcha-border-radius:24px;--advanced-captcha-image-preview-background-color:#414148;--textinput-border:2px solid #95969a;--textinput-border-focused:2px solid #adafb6;--textinput-view-default-fill-color-base:#6e6e73;--advanced-captcha-tooltip-background-color:#adafb6;--link-view-default-typo-color-base:red;--color-typo-ghost:var(--color-typo-primary);--color-base:#dfdfe0;--color-typo-primary:var(--color-base);--button-view-action-typo-color-base:#fff;--button-view-action-fill-color-base:#6b94f7;--button-view-action-fill-color-hovered:#5c81d1}}</style><div id=\"root\"><div class=\"Theme Theme_color_yandex-default Theme_root_default\"><main><div class=\"Container\"><div class=\"Spacer\" style=\"padding-bottom:40px\"><a aria-label=\"Yandex Cloud\" class=\"Link Link_view_default LogoLink\" href=\"https://cloud.yandex.ru/\"></a></div><form action=\"/checkcaptcha?key=B5586FE32A98D2D88CE25CBB7218B5CE9A75E1D7D9752D04A7304E9C8666DBADB02FACA4267DE16F9FD311DE2141D7C6ED9366540368807E0E422EFC95A785EB657F4B1496A0D20D197A23F9DFD2E8E1B4E594DCCBEEEA316BFF0572B73804A9FF2F3E167144A8E10A68DDFD017AB98330198D9E377E5855EFCD2EC233323E93C8DFA89B02AA00D8CF14B93A351FD2627C582DD65449BBD51084458371C8B15645B035C1D86AFE1DA0AE6F2569BC9312C6ECE1F72EEA2A28DE8EEE48527E6F07DE1555863C4542A7C8A4EF734B8BFC67E6432B5C7261C7951E8D7E8EF45D_53208f03-6739921b-19ff8b10-cb8eca15_7/1756390355/cd527ca9e2211d336d51a35f804c3016_641adc4667480e66c9ac50e50dc13932&amp;mt=E98A1D72F3C8441D94BF59BBFF65729FA927B2BCBEEDFEF87893904D887A97561658ECC0D516DD4727E1884312CDF5FF5B8313055808DE03E1891DFCD339018CFB820EFC1D8963465ACFCA0A2A45975A8692173AA5532A33E5333F85352991E06BF39E3F1F1CB1C5F7D902787E192044CD1F93661107016255F71836AAFEF824FC58497CC9FC6BB778F59943CEE013E79470171B82CA1505E220380F8A39513327254CF437B87DFA9945EBFBCA9DE815E6568AA8BFB1F4E67CBEDAB2C3472E22BE5511CEDCA7DD49872510DE99C8D2A1CBFB538CCBFFF023B244B5C33D9E&amp;retpath=aHR0cHM6Ly93d3cuY2lhbi5ydS9jYXQucGhwP2RlYWxfdHlwZT1zYWxlJmVuZ2luZV92ZXJzaW9uPTImb2ZmZXJfdHlwZT1mbGF0JnA9MiZyZWdpb249MQ%2C%2C_b1b7c26c7eb579bc19ed66dae58808fb&amp;u=7188897081676268481&amp;s=0b49815e9103e84162c228226b563036\" id=\"checkbox-captcha-form\" method=\"POST\"><div class=\"Spacer\" style=\"padding-bottom:16px\"><span class=\"Text Text_weight_medium Text_typography_headline-s\">ÐÐ¾Ð´ÑÐ²ÐµÑÐ´Ð¸ÑÐµ, ÑÑÐ¾ Ð·Ð°Ð¿ÑÐ¾ÑÑ Ð¾ÑÐ¿ÑÐ°Ð²Ð»ÑÐ»Ð¸ Ð²Ñ, Ð° Ð½Ðµ ÑÐ¾Ð±Ð¾Ñ</span></div><div class=\"Spacer\" style=\"padding-bottom:16px\"><span class=\"Text Text_weight_regular Text_typography_body-long-m\">ÐÐ°Ð¼ Ð¾ÑÐµÐ½Ñ Ð¶Ð°Ð»Ñ, Ð½Ð¾ Ð·Ð°Ð¿ÑÐ¾ÑÑ Ñ Ð²Ð°ÑÐµÐ³Ð¾ ÑÑÑÑÐ¾Ð¹ÑÑÐ²Ð° Ð¿Ð¾ÑÐ¾Ð¶Ð¸ Ð½Ð° Ð°Ð²ÑÐ¾Ð¼Ð°ÑÐ¸ÑÐµÑÐºÐ¸Ðµ.Â  Â <a class=\"Link Link_view_default\" href=\"https://yandex.ru/support/smart-captcha/problems.html?form-unique_key=7188897081676268481&amp;form-fb-hint=2.150\">ÐÐ¾ÑÐµÐ¼Ñ ÑÑÐ¾ Ð¼Ð¾Ð³Ð»Ð¾ Ð¿ÑÐ¾Ð¸Ð·Ð¾Ð¹ÑÐ¸?</a></span></div><noscript><span class=\"Text Text_color_alert Text_weight_medium Text_typography_body-long-m\">Ð£ Ð²Ð°Ñ Ð¾ÑÐºÐ»ÑÑÐµÐ½Ð¾ Ð¸ÑÐ¿Ð¾Ð»Ð½ÐµÐ½Ð¸Ðµ JavaScript. ÐÐ¾ Ð½Ð°Ð¶Ð°ÑÐ¸Ñ Ð²Ñ Ð±ÑÐ´ÐµÑÐµ Ð½Ð°Ð¿ÑÐ°Ð²Ð»ÐµÐ½Ñ Ð½Ð° Ð´Ð¾Ð¿Ð¾Ð»Ð½Ð¸ÑÐµÐ»ÑÐ½ÑÑ Ð¿ÑÐ¾Ð²ÐµÑÐºÑ.Â <a class=\"Link Link_view_default\" href=\"https://yandex.ru/support/common/browsers-settings/browsers-java-js-settings.html\">ÐÐ°Ðº Ð²ÐºÐ»ÑÑÐ¸ÑÑ JavaScript?</a></span></noscript><div class=\"Spacer Spacer_auto-gap_bottom\" style=\"padding-top:40px;padding-bottom:40px\"><input name=\"rep\" type=\"hidden\"/></div><input name=\"rdata\" type=\"hidden\"/><input name=\"pdata\" type=\"hidden\"/><input name=\"tdata\" type=\"hidden\"/><input name=\"picasso\" type=\"hidden\"/></form><span class=\"Text Text_color_ghost Text_weight_regular Text_typography_control-xs\">ÐÑÐ»Ð¸ Ñ Ð²Ð°Ñ Ð²Ð¾Ð·Ð½Ð¸ÐºÐ»Ð¸ Ð¿ÑÐ¾Ð±Ð»ÐµÐ¼Ñ, Ð¿Ð¾Ð¶Ð°Ð»ÑÐ¹ÑÑÐ°, Ð²Ð¾ÑÐ¿Ð¾Ð»ÑÐ·ÑÐ¹ÑÐµÑÑÂ <a class=\"Link Link_view_default\" href=\"https://yandex.ru/support/smart-captcha/problems.html?form-unique_key=7188897081676268481&amp;form-fb-hint=2.150\" target=\"_blank\">ÑÐ¾ÑÐ¼Ð¾Ð¹ Ð¾Ð±ÑÐ°ÑÐ½Ð¾Ð¹ ÑÐ²ÑÐ·Ð¸</a></span><div class=\"Spacer\" style=\"padding-top:10px\"><span class=\"Text Text_color_ghost Text_weight_light Text_typography_control-xxs\">7188897081676268481:1756390355</span></div></div></main></div></div> <script>window.__SSR_DATA__={url:\"/ru/smartcaptcha\",invalid:\"no\",formAction:\"/checkcaptcha?key=B5586FE32A98D2D88CE25CBB7218B5CE9A75E1D7D9752D04A7304E9C8666DBADB02FACA4267DE16F9FD311DE2141D7C6ED9366540368807E0E422EFC95A785EB657F4B1496A0D20D197A23F9DFD2E8E1B4E594DCCBEEEA316BFF0572B73804A9FF2F3E167144A8E10A68DDFD017AB98330198D9E377E5855EFCD2EC233323E93C8DFA89B02AA00D8CF14B93A351FD2627C582DD65449BBD51084458371C8B15645B035C1D86AFE1DA0AE6F2569BC9312C6ECE1F72EEA2A28DE8EEE48527E6F07DE1555863C4542A7C8A4EF734B8BFC67E6432B5C7261C7951E8D7E8EF45D_53208f03-6739921b-19ff8b10-cb8eca15_7/1756390355/cd527ca9e2211d336d51a35f804c3016_641adc4667480e66c9ac50e50dc13932&mt=E98A1D72F3C8441D94BF59BBFF65729FA927B2BCBEEDFEF87893904D887A97561658ECC0D516DD4727E1884312CDF5FF5B8313055808DE03E1891DFCD339018CFB820EFC1D8963465ACFCA0A2A45975A8692173AA5532A33E5333F85352991E06BF39E3F1F1CB1C5F7D902787E192044CD1F93661107016255F71836AAFEF824FC58497CC9FC6BB778F59943CEE013E79470171B82CA1505E220380F8A39513327254CF437B87DFA9945EBFBCA9DE815E6568AA8BFB1F4E67CBEDAB2C3472E22BE5511CEDCA7DD49872510DE99C8D2A1CBFB538CCBFFF023B244B5C33D9E&retpath=aHR0cHM6Ly93d3cuY2lhbi5ydS9jYXQucGhwP2RlYWxfdHlwZT1zYWxlJmVuZ2luZV92ZXJzaW9uPTImb2ZmZXJfdHlwZT1mbGF0JnA9MiZyZWdpb249MQ%2C%2C_b1b7c26c7eb579bc19ed66dae58808fb&u=7188897081676268481&s=0b49815e9103e84162c228226b563036\",captchaKey:\"B5586FE32A98D2D88CE25CBB7218B5CE9A75E1D7D9752D04A7304E9C8666DBADB02FACA4267DE16F9FD311DE2141D7C6ED9366540368807E0E422EFC95A785EB657F4B1496A0D20D197A23F9DFD2E8E1B4E594DCCBEEEA316BFF0572B73804A9FF2F3E167144A8E10A68DDFD017AB98330198D9E377E5855EFCD2EC233323E93C8DFA89B02AA00D8CF14B93A351FD2627C582DD65449BBD51084458371C8B15645B035C1D86AFE1DA0AE6F2569BC9312C6ECE1F72EEA2A28DE8EEE48527E6F07DE1555863C4542A7C8A4EF734B8BFC67E6432B5C7261C7951E8D7E8EF45D_53208f03-6739921b-19ff8b10-cb8eca15_7/1756390355/cd527ca9e2211d336d51a35f804c3016_641adc4667480e66c9ac50e50dc13932\",imageSrc:\"\",taskImageSrc:\"\",task:\"\",voiceSrc:\"\",introSrc:\"\",aesKey:\"3Ek1BM1KiMNudIV3GCwuoExDadKaqg++7EmYvVTzKO0=\",aesSign:\"1_1756390355_13076773040000014249_ac556ae58156e9d2267f7fbf27a9a6e6\",reqId:\"\",uniqueKey:\"7188897081676268481\",powPrefix:\"743D313735363339303335353B703D33343932376562622D38366132623165362D32313163626439662D61623032613433363B633D31353B643D36303034383642363935453736443132423734363433383330383437423546343B\",powComplexity:\"15\",sitekey:\"ysc1_E9yz9C6uUWHuEsfIasSVjOFkjReBKAkk6SIfy3DSff0234c7\",smartCaptchaHost:\"smartcaptcha.cloud.yandex.ru\",timestamp:\"1756390355\",ogTitle:\"Ð¯Ð½Ð´ÐµÐºÑ\",ogDescription:\"ÐÐ°Ð¹Ð´ÑÑÑÑ Ð²ÑÑ\",ogImage:\"https://yastatic.net/s3/home-static/_/37/37a02b5dc7a51abac55d8a5b6c865f0e.png\",support:\"https://yandex.ru/support/smart-captcha/problems.html?form-unique_key=7188897081676268481&form-fb-hint=2.150\",firstLetterHighlighted:\"\",linksVisible:\"yes\"}</script><script crossorigin=\"\" src=\"/captcha_smart_error.8e931238149d56024307.min.js?k=1733410799941\"></script><script crossorigin=\"\" src=\"/captcha_smart_react.min.js?k=1733410799941\"></script><script crossorigin=\"\" src=\"/captcha_smart.8e931238149d56024307.js?k=1733410799941\"></script><script>!function(e,n,t,a,c){e.ym=e.ym||function(){(e.ym.a=e.ym.a||[]).push(arguments)},e.ym.l=+new Date,a=n.createElement(t),c=n.getElementsByTagName(t)[0],a.async=1,a.src=\"https://mc.yandex.ru/metrika/tag.js\",c.parentNode.insertBefore(a,c)}(window,document,\"script\"),ym(10630330,\"init\",{clickmap:!0,trackLinks:!0,accurateTrackBounce:!0,webvisor:!0,ut:\"noindex\",params:{req_id:\"\",unique_key:\"7188897081676268481\"}})</script><noscript><div><img alt=\"\" src=\"https://mc.yandex.ru/watch/10630330?ut=noindex\" style=\"position:absolute;left:-9999px\"/></div></noscript><div><img alt=\"\" src=\"https://adfstat.yandex.ru/captcha?req_id=&amp;unique_key=7188897081676268481\" style=\"position:absolute;left:-9999px\"/></div></html>\n"
     ]
    },
    {
     "name": "stderr",
     "output_type": "stream",
     "text": [
      "/tmp/ipykernel_23132/3212130448.py:17: DeprecationWarning: Call to deprecated method findAll. (Replaced by find_all) -- Deprecated since version 4.0.0.\n",
      "  allNews = soup.findAll('a', class_='span')\n"
     ]
    }
   ],
   "source": [
    "from bs4 import BeautifulSoup\n",
    "import requests\n",
    "\n",
    "url = 'https://www.cian.ru/cat.php?deal_type=sale&engine_version=2&offer_type=flat&p=2&region=1'\n",
    "\n",
    "page = requests.get(url)\n",
    "\n",
    "print(page.status_code)\n",
    "\n",
    "filteredNews = []\n",
    "allNews = []\n",
    "\n",
    "soup = BeautifulSoup(page.text, \"html.parser\")\n",
    "\n",
    "print(soup)\n",
    "\n",
    "allNews = soup.findAll('span')\n",
    "\n",
    "for data in allNews:\n",
    "    if data.find('span', class_='time2 time3') is not None:\n",
    "        filteredNews.append(data.text)\n",
    "\n",
    "for data in filteredNews:\n",
    "    print(data)"
   ]
  }
 ],
 "metadata": {
  "kernelspec": {
   "display_name": ".venv (3.11.13)",
   "language": "python",
   "name": "python3"
  },
  "language_info": {
   "codemirror_mode": {
    "name": "ipython",
    "version": 3
   },
   "file_extension": ".py",
   "mimetype": "text/x-python",
   "name": "python",
   "nbconvert_exporter": "python",
   "pygments_lexer": "ipython3",
   "version": "3.11.13"
  }
 },
 "nbformat": 4,
 "nbformat_minor": 5
}
