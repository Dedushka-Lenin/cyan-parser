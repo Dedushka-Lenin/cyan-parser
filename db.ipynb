{
 "cells": [
  {
   "cell_type": "code",
   "execution_count": 12,
   "id": "6cb7e769",
   "metadata": {},
   "outputs": [],
   "source": [
    "import sqlite3\n",
    "import os"
   ]
  },
  {
   "cell_type": "code",
   "execution_count": 13,
   "id": "c25b5a23",
   "metadata": {},
   "outputs": [],
   "source": [
    "DB_PATH = 'app/data/db.db'\n",
    "\n",
    "db_exists = os.path.exists(DB_PATH)\n",
    "\n",
    "connection = sqlite3.connect(DB_PATH)\n",
    "connection.row_factory = sqlite3.Row\n",
    "\n",
    "cursor = connection.cursor()"
   ]
  },
  {
   "cell_type": "code",
   "execution_count": 14,
   "id": "90b9936e",
   "metadata": {},
   "outputs": [
    {
     "data": {
      "text/plain": [
       "<sqlite3.Cursor at 0x7ffa1e26c7c0>"
      ]
     },
     "execution_count": 14,
     "metadata": {},
     "output_type": "execute_result"
    }
   ],
   "source": [
    "\n",
    "cursor.execute(\"\"\"\n",
    "    CREATE TABLE IF NOT EXISTS offers (\n",
    "        id INTEGER PRIMARY KEY AUTOINCREMENT,\n",
    "        title VARCHAR(255) NOT NULL,\n",
    "        price INTEGER NOT NULL,\n",
    "        price_per_meter INTEGER NOT NULL,\n",
    "        square INTEGER NOT NULL,\n",
    "        description TEXT NOT NULL,\n",
    "        url TEXT NOT NULL    \n",
    "    );\n",
    "\"\"\")"
   ]
  },
  {
   "cell_type": "code",
   "execution_count": 15,
   "id": "2d015d80",
   "metadata": {},
   "outputs": [],
   "source": [
    "connection.close()"
   ]
  }
 ],
 "metadata": {
  "kernelspec": {
   "display_name": ".venv (3.11.13)",
   "language": "python",
   "name": "python3"
  },
  "language_info": {
   "codemirror_mode": {
    "name": "ipython",
    "version": 3
   },
   "file_extension": ".py",
   "mimetype": "text/x-python",
   "name": "python",
   "nbconvert_exporter": "python",
   "pygments_lexer": "ipython3",
   "version": "3.11.13"
  }
 },
 "nbformat": 4,
 "nbformat_minor": 5
}
