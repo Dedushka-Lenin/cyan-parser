{
 "cells": [
  {
   "cell_type": "code",
   "execution_count": 1,
   "id": "6cb7e769",
   "metadata": {},
   "outputs": [],
   "source": [
    "import psycopg2\n",
    "from psycopg2.extensions import ISOLATION_LEVEL_AUTOCOMMIT"
   ]
  },
  {
   "cell_type": "code",
   "execution_count": 2,
   "id": "d2aada2f",
   "metadata": {},
   "outputs": [],
   "source": [
    "DBNAME=\"containersDB\"\n",
    "USER=\"Red-Soft\"\n",
    "PASSWORD=\"vo{>lC^E$)c$F9–h\"\n",
    "HOST=\"localhost\"\n",
    "PORT=\"5432\""
   ]
  },
  {
   "cell_type": "code",
   "execution_count": 6,
   "id": "c25b5a23",
   "metadata": {},
   "outputs": [],
   "source": [
    "from psycopg2 import sql\n",
    "\n",
    "connection = psycopg2.connect(\n",
    "    dbname='postgres',\n",
    "    user=USER,\n",
    "    password=PASSWORD,\n",
    "    host=HOST,\n",
    "    port=PORT\n",
    ")\n",
    "\n",
    "connection.set_isolation_level(ISOLATION_LEVEL_AUTOCOMMIT)\n",
    "connection.autocommit = True\n",
    "cursor = connection.cursor()\n",
    "\n",
    "query = \"SELECT 1 FROM pg_database WHERE datname=%s\"\n",
    "cursor.execute(query, (DBNAME,))\n",
    "exists = cursor.fetchone()\n",
    "\n",
    "if not exists:\n",
    "    create_query = sql.SQL(\"CREATE DATABASE {}\").format(sql.Identifier(DBNAME))\n",
    "    cursor.execute(create_query)\n",
    "\n",
    "connection = psycopg2.connect(\n",
    "    dbname=DBNAME,\n",
    "    user=USER,\n",
    "    password=PASSWORD,\n",
    "    host=HOST,\n",
    "    port=PORT\n",
    ")\n",
    "\n",
    "connection.set_isolation_level(ISOLATION_LEVEL_AUTOCOMMIT)\n",
    "connection.autocommit = True\n",
    "cursor = connection.cursor()"
   ]
  },
  {
   "cell_type": "code",
   "execution_count": 7,
   "id": "90b9936e",
   "metadata": {},
   "outputs": [],
   "source": [
    "cursor.execute(\"\"\"\n",
    "    CREATE TABLE IF NOT EXISTS users (\n",
    "        id SERIAL PRIMARY KEY,\n",
    "        login VARCHAR(255) NOT NULL CHECK (LENGTH(login) >= 3),\n",
    "        password VARCHAR(255) NOT NULL CHECK (LENGTH(password) >= 6)\n",
    "    );\n",
    "\"\"\")\n",
    "\n",
    "cursor.execute(\"\"\"\n",
    "    CREATE TABLE IF NOT EXISTS containers (\n",
    "        id SERIAL PRIMARY KEY,\n",
    "        user_id INTEGER NOT NULL,\n",
    "        containers_name VARCHAR(255) NOT NULL,\n",
    "        repositories_id INTEGER NOT NULL,\n",
    "        version VARCHAR(255) NOT NULL\n",
    "    );\n",
    "\"\"\")\n",
    "\n",
    "cursor.execute(\"\"\"\n",
    "    CREATE TABLE IF NOT EXISTS repositories (\n",
    "        id SERIAL PRIMARY KEY,\n",
    "        user_id INTEGER NOT NULL,\n",
    "        url VARCHAR(255) NOT NULL,\n",
    "        repositories_name VARCHAR(255) NOT NULL,\n",
    "        description VARCHAR(255) NOT NULL\n",
    "    );\n",
    "\"\"\")\n",
    "\n",
    "cursor.execute(\"\"\"\n",
    "    CREATE TABLE IF NOT EXISTS version (\n",
    "        id SERIAL PRIMARY KEY,\n",
    "        repositories_id INTEGER NOT NULL,\n",
    "        version VARCHAR(255) NOT NULL\n",
    "    );\n",
    "\"\"\")"
   ]
  }
 ],
 "metadata": {
  "kernelspec": {
   "display_name": "venv (3.11.13)",
   "language": "python",
   "name": "python3"
  },
  "language_info": {
   "codemirror_mode": {
    "name": "ipython",
    "version": 3
   },
   "file_extension": ".py",
   "mimetype": "text/x-python",
   "name": "python",
   "nbconvert_exporter": "python",
   "pygments_lexer": "ipython3",
   "version": "3.11.13"
  }
 },
 "nbformat": 4,
 "nbformat_minor": 5
}
